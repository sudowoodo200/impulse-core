{
 "cells": [
  {
   "cell_type": "code",
   "execution_count": 3,
   "metadata": {},
   "outputs": [],
   "source": [
    "import pymongo\n",
    "import impulse_core"
   ]
  },
  {
   "cell_type": "code",
   "execution_count": 4,
   "metadata": {},
   "outputs": [
    {
     "data": {
      "text/plain": [
       "['__name__',\n",
       " '__doc__',\n",
       " '__package__',\n",
       " '__loader__',\n",
       " '__spec__',\n",
       " '__path__',\n",
       " '__file__',\n",
       " '__cached__',\n",
       " '__builtins__',\n",
       " 'BaseAsyncLogger',\n",
       " 'MongoLogger',\n",
       " 'LocalLogger',\n",
       " 'ImpulseTraceNode',\n",
       " 'ImpulseTracer',\n",
       " 'IMPULSE_CURRENT_TRACE_ROOT',\n",
       " 'trace_log',\n",
       " 'TraceSchema',\n",
       " 'FunctionArgumentsSchema',\n",
       " 'ContextNodeSchema',\n",
       " 'StackTraceSchema',\n",
       " 'TraceLogSchema',\n",
       " 'TraceModuleSchema',\n",
       " 'FunctionTimestampsSchema',\n",
       " 'TracedFunctionSchema',\n",
       " 'EMPTY_TRACE_TEMPLATE',\n",
       " '__all__']"
      ]
     },
     "execution_count": 4,
     "metadata": {},
     "output_type": "execute_result"
    }
   ],
   "source": [
    "impulse_core.__dir__()"
   ]
  },
  {
   "cell_type": "markdown",
   "metadata": {},
   "source": []
  }
 ],
 "metadata": {
  "kernelspec": {
   "display_name": ".venv",
   "language": "python",
   "name": "python3"
  },
  "language_info": {
   "codemirror_mode": {
    "name": "ipython",
    "version": 3
   },
   "file_extension": ".py",
   "mimetype": "text/x-python",
   "name": "python",
   "nbconvert_exporter": "python",
   "pygments_lexer": "ipython3",
   "version": "3.11.4"
  },
  "orig_nbformat": 4
 },
 "nbformat": 4,
 "nbformat_minor": 2
}
