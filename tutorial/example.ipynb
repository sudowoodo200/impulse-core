{
 "cells": [
  {
   "cell_type": "code",
   "execution_count": 2,
   "metadata": {},
   "outputs": [
    {
     "ename": "ModuleNotFoundError",
     "evalue": "No module named 'schema'",
     "output_type": "error",
     "traceback": [
      "\u001b[0;31m---------------------------------------------------------------------------\u001b[0m",
      "\u001b[0;31mModuleNotFoundError\u001b[0m                       Traceback (most recent call last)",
      "Cell \u001b[0;32mIn[2], line 2\u001b[0m\n\u001b[1;32m      1\u001b[0m \u001b[39mimport\u001b[39;00m \u001b[39mpymongo\u001b[39;00m\n\u001b[0;32m----> 2\u001b[0m \u001b[39mimport\u001b[39;00m \u001b[39mimpulse_core\u001b[39;00m\n",
      "File \u001b[0;32m~/Desktop/Projects/Impulse/impulse_core/.venv/lib/python3.11/site-packages/impulse_core/__init__.py:3\u001b[0m\n\u001b[1;32m      1\u001b[0m \u001b[39mfrom\u001b[39;00m \u001b[39mimpulse_core\u001b[39;00m\u001b[39m.\u001b[39;00m\u001b[39mlogger\u001b[39;00m \u001b[39mimport\u001b[39;00m BaseAsyncLogger, MongoLogger, LocalLogger\n\u001b[1;32m      2\u001b[0m \u001b[39mfrom\u001b[39;00m \u001b[39mimpulse_core\u001b[39;00m\u001b[39m.\u001b[39;00m\u001b[39mtracer\u001b[39;00m \u001b[39mimport\u001b[39;00m ImpulseTraceNode, ImpulseTracer, IMPULSE_CURRENT_TRACE_ROOT, trace_log\n\u001b[0;32m----> 3\u001b[0m \u001b[39mfrom\u001b[39;00m \u001b[39mschema\u001b[39;00m \u001b[39mimport\u001b[39;00m (\n\u001b[1;32m      4\u001b[0m     TraceSchema,\n\u001b[1;32m      5\u001b[0m     FunctionArgumentsSchema,\n\u001b[1;32m      6\u001b[0m     ContextNodeSchema,\n\u001b[1;32m      7\u001b[0m     StackTraceSchema,\n\u001b[1;32m      8\u001b[0m     TraceLogSchema,\n\u001b[1;32m      9\u001b[0m     TraceModuleSchema,\n\u001b[1;32m     10\u001b[0m     FunctionTimestampsSchema,\n\u001b[1;32m     11\u001b[0m     TracedFunctionSchema,\n\u001b[1;32m     12\u001b[0m     EMPTY_TRACE_TEMPLATE\n\u001b[1;32m     13\u001b[0m )\n\u001b[1;32m     15\u001b[0m __all__ \u001b[39m=\u001b[39m [\n\u001b[1;32m     16\u001b[0m     \u001b[39m\"\u001b[39m\u001b[39mImpulseTraceNode\u001b[39m\u001b[39m\"\u001b[39m,\n\u001b[1;32m     17\u001b[0m     \u001b[39m\"\u001b[39m\u001b[39mImpulseTracer\u001b[39m\u001b[39m\"\u001b[39m,\n\u001b[0;32m   (...)\u001b[0m\n\u001b[1;32m     31\u001b[0m     \u001b[39m\"\u001b[39m\u001b[39mEMPTY_TRACE_TEMPLATE\u001b[39m\u001b[39m\"\u001b[39m\n\u001b[1;32m     32\u001b[0m ]\n",
      "\u001b[0;31mModuleNotFoundError\u001b[0m: No module named 'schema'"
     ]
    }
   ],
   "source": [
    "import pymongo\n",
    "import impulse_core"
   ]
  },
  {
   "cell_type": "markdown",
   "metadata": {},
   "source": []
  }
 ],
 "metadata": {
  "kernelspec": {
   "display_name": ".venv",
   "language": "python",
   "name": "python3"
  },
  "language_info": {
   "codemirror_mode": {
    "name": "ipython",
    "version": 3
   },
   "file_extension": ".py",
   "mimetype": "text/x-python",
   "name": "python",
   "nbconvert_exporter": "python",
   "pygments_lexer": "ipython3",
   "version": "3.11.4"
  },
  "orig_nbformat": 4
 },
 "nbformat": 4,
 "nbformat_minor": 2
}
